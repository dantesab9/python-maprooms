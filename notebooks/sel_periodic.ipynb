{
 "cells": [
  {
   "cell_type": "markdown",
   "metadata": {},
   "source": [
    "# `roll_to` and `sel_periodic` (version 2)\n",
    "\n",
    "This aims to help with the problem of periodic/ circular/ wrapped/ modulo selection described in [Circular longitude axis #623](https://github.com/pydata/xarray/issues/623). [@j08lue](https://github.com/j08lue) uses rolled index array as follows:\n",
    "\n",
    "``` python\n",
    "def wrap_iselkw(ds, dim, istart, istop):\n",
    "    \"\"\"Returns a kw dict for indices from `istart` to `istop` that wrap around dimension `dim`\"\"\"\n",
    "    n = len(ds[dim])\n",
    "    if istart > istop:\n",
    "        istart -= n\n",
    "    return { dim : np.mod(np.arange(istart, istop), n) }\n",
    "```\n",
    "\n",
    "In [roll method #624](https://github.com/pydata/xarray/issues/623) [@rabernat](https://github.com/rabernat) proposed `roll` method (that has already been added to xarray) as follows:\n",
    "\n",
    "```python\n",
    "def roll(darr, n, dim):\n",
    "    \"\"\"Clone of numpy.roll for xray objects.\"\"\"\n",
    "    left = darr.isel(**{dim: slice(None, -n)})\n",
    "    right = darr.isel(**{dim: slice(-n, None)})\n",
    "    return xray.concat([right, left], dim=dim, data_vars='minimal',\n",
    "                       coords='minimal')\n",
    "```\n",
    "\n",
    "[@rabernat's](https://github.com/rabernat) method appears to be better because it deals with 2 sub-arrays instead of N columns. Both APIs operate work with integer indices and do not support coordinate labels. \n",
    "\n",
    "We are introducing function `sel_periodic` and helper function `roll_to` that work in coordinate label space.\n",
    "\n",
    "`sel_periodic(ds, dim, value, period=360.0)` works similar to `sel` only assumes that the coordinate is periodic, that it covers exactly one period, has monotonically increasing labels, and includes label 0.0. It supports scalar, array, and slice selections. In all cases it normalizes selection criteria (modulo `period`), and if `slice.start` is greater than `slice.stop`, it rolls the dataset to `slice.start` to ensure contiguous selection. Also it applies modulo `period` normalization to the coordinate. It supports positive and negative `slice.step`. TODO: change API to match xarray's `sel`.\n",
    "\n",
    "`roll_to(ds, dim, value, period=360.0)` is a helper function used by `sel_periodic`, and can also be used independently. It rolls the ds to the first coordinate label that is greater or equal to value, and then makes coordinate monitonically increasing. Assumes that input coordinate is monotonically increasing, covers exactly one period, and overlaps value. If value is outside of the coordinate range, then this function does nothing.\n"
   ]
  },
  {
   "cell_type": "code",
   "execution_count": null,
   "metadata": {},
   "outputs": [],
   "source": [
    "import numpy as np\n",
    "import pandas as pd\n",
    "import xarray as xr\n",
    "from collections.abc import Iterable"
   ]
  },
  {
   "cell_type": "code",
   "execution_count": null,
   "metadata": {},
   "outputs": [],
   "source": [
    "def __dim_range(ds, dim, period=360.0):\n",
    "    c0, c1 = ds[dim].values[0], ds[dim].values[-1]\n",
    "    d = (period - (c1 - c0)) / 2.0\n",
    "    c0, c1 = c0 - d , c1 + d\n",
    "    return c0, c1\n",
    "\n",
    "\n",
    "def __normalize_vals(v0, vals, period=360.0, right=False):\n",
    "    \n",
    "    vs = vals if isinstance(vals, Iterable) else [vals]\n",
    "    \n",
    "    v1 = v0 + period\n",
    "    assert v0 <= 0.0 <= v1\n",
    "    \n",
    "    vs = np.mod(vs, period)\n",
    "    if right:\n",
    "        vs[vs > v1] -= period\n",
    "    else:\n",
    "        vs[vs >= v1] -= period\n",
    "\n",
    "    vs = vs if isinstance(vals, Iterable) else vs[0]\n",
    "\n",
    "    return vs\n",
    "\n",
    "\n",
    "def __normalize_dim(ds, dim, period=360.0):\n",
    "    \"\"\"Doesn't copy ds. Make a copy if necessary.\"\"\" \n",
    "    c0, c1 = __dim_range(ds, dim, period)\n",
    "    if c0 > 0.0:\n",
    "        ds[dim] = ds[dim] - period\n",
    "    elif c1 < 0.0:\n",
    "        ds[dim] = ds[dim] + period\n",
    "\n",
    "\n",
    "def roll_to(ds, dim, val, period=360.0):\n",
    "    \"\"\"Rolls the ds to the first dim's label that is greater or equal to\n",
    "    val, and then makes dim monitonically increasing. Assumes that dim\n",
    "    is monotonically increasing, covers exactly one period, and overlaps\n",
    "    val. If val is outside of the dim, this function does nothing.\n",
    "    \"\"\"\n",
    "    a = np.argwhere(ds[dim].values >= val)\n",
    "    n = a[0, 0] if a.shape[0] != 0 else 0\n",
    "    if n != 0:\n",
    "        ds = ds.copy()\n",
    "        ds = ds.roll(**{dim: -n}, roll_coords=True)\n",
    "        ds[dim] = xr.where(ds[dim] < val, ds[dim] + period, ds[dim])\n",
    "        __normalize_dim(ds, dim, period)\n",
    "    return ds\n",
    "\n",
    "\n",
    "def sel_periodic(ds, dim, vals, period=360.0):\n",
    "    \"\"\"Assumes that dim is monotonically increasing, covers exactly one period, and overlaps 0.0\n",
    "    Examples: lon: 0..360, -180..180, -90..270, -360..0, etc.\n",
    "    TODO: change API to match xarray's `sel`\n",
    "    \"\"\"\n",
    "    c0, c1 = __dim_range(ds, dim, period)\n",
    "    print(f\"*** sel_periodic (input): {c0}..{c1}: {vals}\")\n",
    "\n",
    "    if isinstance(vals, slice):\n",
    "        if vals.step is None or vals.step >= 0:\n",
    "            s0 = __normalize_vals(c0, vals.start, period)\n",
    "            s1 = __normalize_vals(c0, vals.stop, period, True)\n",
    "        else:\n",
    "            s0 = __normalize_vals(c0, vals.stop, period)\n",
    "            s1 = __normalize_vals(c0, vals.start, period, True)\n",
    "\n",
    "        print(f\"*** sel_periodic (normalized): {c0}..{c1}: {s0=}, {s1=}\")\n",
    "\n",
    "        if s0 > s1:\n",
    "            ds = roll_to(ds, dim, s1, period)\n",
    "            c0, c1 = __dim_range(ds, dim, period)\n",
    "            s0 = __normalize_vals(c0, s0, period)\n",
    "            s1 = __normalize_vals(c0, s1, period, True)\n",
    "            print(f\"*** sel_periodic (rolled): {c0}..{c1}: {s0=}, {s1=}\")\n",
    "\n",
    "        if vals.step is None or vals.step >= 0:\n",
    "            vals = slice(s0, s1, vals.step)\n",
    "        else:\n",
    "            vals = slice(s1, s0, vals.step)\n",
    "\n",
    "        print(f\"*** sel_periodic (slice): {c0}..{c1}: {vals}\") \n",
    "\n",
    "    else:\n",
    "        vals = __normalize_vals(c0, vals, period=period)\n",
    "        print(f\"*** sel_periodic (array): {c0}..{c1}: {vals}\")\n",
    "\n",
    "    ds = ds.sel({dim: vals})\n",
    "    \n",
    "    return ds\n"
   ]
  },
  {
   "cell_type": "code",
   "execution_count": null,
   "metadata": {},
   "outputs": [],
   "source": [
    "ds = xr.open_dataset(\"/local/ikh/data5/noaa/cac/cmap/monthly/latest_rotating/cmap_mon_latest_float64.nc\")\n",
    "#ds = ds.pipe(roll_to, \"lon\", 0.0)\n",
    "da = ds[\"rain1\"]\n",
    "da"
   ]
  },
  {
   "cell_type": "code",
   "execution_count": null,
   "metadata": {},
   "outputs": [],
   "source": [
    "da.isel(time=0).pipe(sel_periodic, \"lon\", np.array([-708.75, -1.25, 381.25, -176.25]))[\"lon\"]"
   ]
  },
  {
   "cell_type": "code",
   "execution_count": null,
   "metadata": {},
   "outputs": [],
   "source": [
    "da.isel(time=0).pipe(sel_periodic, \"lon\", 731.25)[\"lon\"]"
   ]
  },
  {
   "cell_type": "code",
   "execution_count": null,
   "metadata": {},
   "outputs": [],
   "source": [
    "da.isel(time=0).pipe(sel_periodic, \"lon\", slice(-370, 361, -1))[\"lon\"]"
   ]
  },
  {
   "cell_type": "code",
   "execution_count": null,
   "metadata": {},
   "outputs": [],
   "source": [
    "da.isel(time=0).pipe(sel_periodic, \"lon\", slice(361, -370, -1))[\"lon\"]"
   ]
  },
  {
   "cell_type": "code",
   "execution_count": null,
   "metadata": {},
   "outputs": [],
   "source": [
    "da.isel(time=0).pipe(sel_periodic, \"lon\", slice(361, -370))[\"lon\"]"
   ]
  },
  {
   "cell_type": "code",
   "execution_count": null,
   "metadata": {},
   "outputs": [],
   "source": [
    "da.isel(time=0).pipe(sel_periodic, \"lon\", slice(-370, 361))[\"lon\"]"
   ]
  },
  {
   "cell_type": "code",
   "execution_count": null,
   "metadata": {},
   "outputs": [],
   "source": [
    "da.isel(time=0).pipe(sel_periodic, \"lon\", slice(-160, 160))[\"lon\"]"
   ]
  },
  {
   "cell_type": "code",
   "execution_count": null,
   "metadata": {},
   "outputs": [],
   "source": [
    "da.isel(time=0).pipe(sel_periodic, \"lon\", slice(-200, 200))[\"lon\"]"
   ]
  },
  {
   "cell_type": "code",
   "execution_count": null,
   "metadata": {},
   "outputs": [],
   "source": [
    "pd.to_datetime(11, format='%m').month_name()"
   ]
  },
  {
   "cell_type": "code",
   "execution_count": null,
   "metadata": {},
   "outputs": [],
   "source": [
    "z = ds.sel(lon=slice(170, -170, -2))\n",
    "__normalize_dim(z, \"lon\")\n",
    "z[\"lon\"].values"
   ]
  },
  {
   "cell_type": "code",
   "execution_count": null,
   "metadata": {},
   "outputs": [],
   "source": []
  }
 ],
 "metadata": {
  "kernelspec": {
   "display_name": "Python 3",
   "language": "python",
   "name": "python3"
  },
  "language_info": {
   "codemirror_mode": {
    "name": "ipython",
    "version": 3
   },
   "file_extension": ".py",
   "mimetype": "text/x-python",
   "name": "python",
   "nbconvert_exporter": "python",
   "pygments_lexer": "ipython3",
   "version": "3.8.6"
  }
 },
 "nbformat": 4,
 "nbformat_minor": 4
}
